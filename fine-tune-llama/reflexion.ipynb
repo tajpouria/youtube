{
  "cells": [
    {
      "cell_type": "code",
      "execution_count": 44,
      "id": "1b64a6f6-1d32-48be-92b5-66c3b04b17f7",
      "metadata": {},
      "outputs": [
        {
          "name": "stdout",
          "output_type": "stream",
          "text": [
            "Note: you may need to restart the kernel to use updated packages.\n"
          ]
        }
      ],
      "source": [
        "%pip install -qU \\\n",
        "    langchain==0.2.5 \\\n",
        "    langchain-core==0.2.9 \\\n",
        "    langgraph==0.1.1 \\\n",
        "    langchain_openai==0.1.9"
      ]
    },
    {
      "cell_type": "code",
      "execution_count": 1,
      "id": "a917bb70-f84c-48e6-8d32-d14f9df2ca2f",
      "metadata": {},
      "outputs": [],
      "source": [
        "import getpass\n",
        "import os\n",
        "\n",
        "os.environ[\"OPENAI_API_KEY\"] = getpass.getpass(\"Enter your OpenAI API key: \")"
      ]
    },
    {
      "cell_type": "code",
      "execution_count": 5,
      "id": "567b6c4a",
      "metadata": {},
      "outputs": [],
      "source": [
        "from langchain_openai import ChatOpenAI\n",
        "\n",
        "llm = ChatOpenAI(model=\"gpt-4o\", temperature=0)"
      ]
    },
    {
      "cell_type": "code",
      "execution_count": 11,
      "id": "5a2ac853-b8a6-40de-b7fe-3f9f3c5ca4d2",
      "metadata": {},
      "outputs": [],
      "source": [
        "from langchain_core.tools import tool\n",
        "\n",
        "\n",
        "@tool(\"website_schema_validator_tool\")\n",
        "def website_schema_validator_tool(website_schema: str = None) -> bool:\n",
        "    \"\"\"\n",
        "    Validate a website schema\n",
        "\n",
        "    Args:\n",
        "    schema (str): The website schema to validate\n",
        "\n",
        "    Returns:\n",
        "    bool: Whether the schema is valid\n",
        "    \"\"\"\n",
        "    return True if website_schema else False"
      ]
    },
    {
      "cell_type": "code",
      "execution_count": 13,
      "id": "5fffa8d5-068a-4f0b-adfc-b4daf30ef294",
      "metadata": {},
      "outputs": [],
      "source": [
        "from langchain_core.messages import HumanMessage, ToolMessage\n",
        "from langchain_core.output_parsers.openai_tools import PydanticToolsParser\n",
        "from langchain_core.prompts import ChatPromptTemplate, MessagesPlaceholder\n",
        "from langchain_core.pydantic_v1 import BaseModel, Field, ValidationError\n",
        "\n",
        "\n",
        "class Reflection(BaseModel):\n",
        "    missing: str = Field(description=\"Critique of what is missing.\")\n",
        "    superfluous: str = Field(description=\"Critique of what is superfluous\")\n",
        "\n",
        "\n",
        "class AnswerQuestion(BaseModel):\n",
        "    \"\"\"Answer the question. Provide an answer, reflection, and then follow up with search queries to improve the answer.\"\"\"\n",
        "\n",
        "    answer: str = Field(description=\"~250 word detailed answer to the question.\")\n",
        "    reflection: Reflection = Field(description=\"Your reflection on the initial answer.\")\n",
        "    search_queries: list[str] = Field(\n",
        "        description=\"1-3 search queries for researching improvements to address the critique of your current answer.\"\n",
        "    )\n",
        "\n",
        "\n",
        "class ResponderWithRetries:\n",
        "    def __init__(self, runnable, validator):\n",
        "        self.runnable = runnable\n",
        "        self.validator = validator\n",
        "\n",
        "    def respond(self, state: list):\n",
        "        response = []\n",
        "        for attempt in range(3):\n",
        "            response = self.runnable.invoke(\n",
        "                {\"messages\": state}, {\"tags\": [f\"attempt:{attempt}\"]}\n",
        "            )\n",
        "            try:\n",
        "                self.validator.invoke(response)\n",
        "                return response\n",
        "            except ValidationError as e:\n",
        "                state = state + [\n",
        "                    response,\n",
        "                    ToolMessage(\n",
        "                        content=f\"{repr(e)}\\n\\nPay close attention to the function schema.\\n\\n\"\n",
        "                        + self.validator.schema_json()\n",
        "                        + \" Respond by fixing all validation errors.\",\n",
        "                        tool_call_id=response.tool_calls[0][\"id\"],\n",
        "                    ),\n",
        "                ]\n",
        "        return response"
      ]
    },
    {
      "cell_type": "code",
      "execution_count": 14,
      "id": "4a0264b8-ed2d-4f15-9d3c-085aa3a5edab",
      "metadata": {},
      "outputs": [],
      "source": [
        "import datetime\n",
        "\n",
        "actor_prompt_template = ChatPromptTemplate.from_messages(\n",
        "    [\n",
        "        (\n",
        "            \"system\",\n",
        "            \"\"\"You are expert researcher.\n",
        "Current time: {time}\n",
        "\n",
        "1. {first_instruction}\n",
        "2. Reflect and critique your answer. Be severe to maximize improvement.\n",
        "3. Recommend search queries to research information and improve your answer.\"\"\",\n",
        "        ),\n",
        "        MessagesPlaceholder(variable_name=\"messages\"),\n",
        "        (\n",
        "            \"user\",\n",
        "            \"\\n\\n<system>Reflect on the user's original question and the\"\n",
        "            \" actions taken thus far. Respond using the {function_name} function.</reminder>\",\n",
        "        ),\n",
        "    ]\n",
        ").partial(\n",
        "    time=lambda: datetime.datetime.now().isoformat(),\n",
        ")\n",
        "initial_answer_chain = actor_prompt_template.partial(\n",
        "    first_instruction=\"Provide a detailed ~250 word answer.\",\n",
        "    function_name=AnswerQuestion.__name__,\n",
        ") | llm.bind_tools(tools=[AnswerQuestion])\n",
        "validator = PydanticToolsParser(tools=[AnswerQuestion])\n",
        "\n",
        "first_responder = ResponderWithRetries(\n",
        "    runnable=initial_answer_chain, validator=validator\n",
        ")"
      ]
    },
    {
      "cell_type": "code",
      "execution_count": 16,
      "id": "5922e1fe-7533-4f41-8b1d-d812707c1968",
      "metadata": {},
      "outputs": [],
      "source": [
        "example_question = \"Why is reflection useful in AI?\"\n",
        "initial = first_responder.respond([HumanMessage(content=example_question)])"
      ]
    },
    {
      "cell_type": "code",
      "execution_count": 23,
      "id": "444c6412",
      "metadata": {},
      "outputs": [
        {
          "data": {
            "text/plain": [
              "'{\"answer\":\"Reflection is a crucial aspect of artificial intelligence (AI) for several reasons. Firstly, it enhances decision-making processes. AI systems that incorporate reflection can analyze their past actions and outcomes to make better-informed decisions in the future. This capability is particularly important in dynamic environments where conditions can change rapidly, requiring adaptive learning and response. Secondly, reflection in AI contributes to improved learning and adaptation. By reflecting on errors or suboptimal decisions, AI systems can identify patterns and adjust their learning algorithms to avoid repeating mistakes. This iterative learning process can lead to more accurate and reliable performance over time. Thirdly, reflection supports transparency and interpretability in AI. When AI systems can reflect on their decision-making processes, it becomes easier for developers and users to understand how conclusions are reached. This transparency is vital in building trust and ensuring ethical use of AI technologies. Lastly, reflection aids in debugging and system improvements. By analyzing the internal decision-making process, developers can pinpoint where errors occur and implement necessary changes. This self-assessment can lead to more robust and efficient AI systems.\",\"reflection\":{\"missing\":\"The answer could benefit from specific examples of AI systems that utilize reflection and how it has improved their performance. Additionally, it lacks a discussion on potential challenges or limitations of incorporating reflection in AI.\",\"superfluous\":\"The explanation is concise and to the point, without any unnecessary information. However, it could be more engaging by including real-world applications or case studies.\",\"search_queries\":[\"examples of reflection in AI systems\",\"challenges of incorporating reflection in AI\",\"real-world applications of reflective AI systems\"]}}'"
            ]
          },
          "execution_count": 23,
          "metadata": {},
          "output_type": "execute_result"
        }
      ],
      "source": [
        "initial.additional_kwargs[\"tool_calls\"][0][\"function\"][\"arguments\"]"
      ]
    },
    {
      "cell_type": "code",
      "execution_count": 8,
      "id": "2605fd8d-c663-446f-ba25-751190195749",
      "metadata": {},
      "outputs": [],
      "source": [
        "revise_instructions = \"\"\"Revise your previous answer using the new information.\n",
        "    - You should use the previous critique to add important information to your answer.\n",
        "        - You MUST include numerical citations in your revised answer to ensure it can be verified.\n",
        "        - Add a \"References\" section to the bottom of your answer (which does not count towards the word limit). In form of:\n",
        "            - [1] https://example.com\n",
        "            - [2] https://example.com\n",
        "    - You should use the previous critique to remove superfluous information from your answer and make SURE it is not more than 250 words.\n",
        "\"\"\"\n",
        "\n",
        "\n",
        "# Extend the initial answer schema to include references.\n",
        "# Forcing citation in the model encourages grounded responses\n",
        "class ReviseAnswer(AnswerQuestion):\n",
        "    \"\"\"Revise your original answer to your question. Provide an answer, reflection,\n",
        "\n",
        "    cite your reflection with references, and finally\n",
        "    add search queries to improve the answer.\"\"\"\n",
        "\n",
        "    references: list[str] = Field(\n",
        "        description=\"Citations motivating your updated answer.\"\n",
        "    )\n",
        "\n",
        "\n",
        "revision_chain = actor_prompt_template.partial(\n",
        "    first_instruction=revise_instructions,\n",
        "    function_name=ReviseAnswer.__name__,\n",
        ") | llm.bind_tools(tools=[ReviseAnswer])\n",
        "revision_validator = PydanticToolsParser(tools=[ReviseAnswer])\n",
        "\n",
        "revisor = ResponderWithRetries(runnable=revision_chain, validator=revision_validator)"
      ]
    },
    {
      "cell_type": "code",
      "execution_count": 9,
      "id": "6fd51f17-c0b0-44b6-90e2-55a66cb8f5a7",
      "metadata": {},
      "outputs": [
        {
          "data": {
            "text/plain": [
              "AIMessage(content='', additional_kwargs={'tool_calls': [{'id': 'call_dqREZi4xX0af1TOOsXb82NUz', 'function': {'arguments': '{\"answer\":\"Reflection in AI is crucial for several reasons. It enables continuous improvement as AI systems learn from past decisions and actions, identifying what went right or wrong to adapt their models accordingly. This process refines algorithms, improves accuracy, and enhances performance. Additionally, reflection aids in transparency and accountability. By documenting decision-making processes and outcomes, AI systems can explain their actions, building trust with users and complying with ethical standards. Reflection also fosters adaptability in dynamic environments, allowing AI systems to adjust strategies based on new data and evolving contexts. Lastly, reflection supports ethical AI development by considering long-term impacts and unintended consequences, promoting designs that align with societal values and norms.\",\"reflection\":{\"missing\":\"The answer could be improved with specific examples of reflection applied in AI systems. Including real-world scenarios or case studies would provide a clearer understanding.\",\"superfluous\":\"The explanation, while thorough, might be too detailed for a quick understanding. It could be more concise without losing the core message.\"},\"search_queries\":[\"examples of reflection in AI\",\"case studies on AI reflection\",\"importance of reflection in AI systems\"],\"references\":[\"1. https://bdtechtalks.com/2022/01/17/ai-algorithm-audit-bias/\",\"2. https://towardsdatascience.com/the-importance-of-ai-ethics-5b0eb27706c2\",\"3. https://ai.googleblog.com/2017/04/ai-machine-learning-crash-course.html\"]}', 'name': 'ReviseAnswer'}, 'type': 'function'}]}, response_metadata={'token_usage': {'completion_tokens': 309, 'prompt_tokens': 1234, 'total_tokens': 1543}, 'model_name': 'gpt-4o-2024-05-13', 'system_fingerprint': 'fp_3aa7262c27', 'finish_reason': 'tool_calls', 'logprobs': None}, id='run-0cf1e738-2e13-46c2-8a11-1477d8d9cb79-0', tool_calls=[{'name': 'ReviseAnswer', 'args': {'answer': 'Reflection in AI is crucial for several reasons. It enables continuous improvement as AI systems learn from past decisions and actions, identifying what went right or wrong to adapt their models accordingly. This process refines algorithms, improves accuracy, and enhances performance. Additionally, reflection aids in transparency and accountability. By documenting decision-making processes and outcomes, AI systems can explain their actions, building trust with users and complying with ethical standards. Reflection also fosters adaptability in dynamic environments, allowing AI systems to adjust strategies based on new data and evolving contexts. Lastly, reflection supports ethical AI development by considering long-term impacts and unintended consequences, promoting designs that align with societal values and norms.', 'reflection': {'missing': 'The answer could be improved with specific examples of reflection applied in AI systems. Including real-world scenarios or case studies would provide a clearer understanding.', 'superfluous': 'The explanation, while thorough, might be too detailed for a quick understanding. It could be more concise without losing the core message.'}, 'search_queries': ['examples of reflection in AI', 'case studies on AI reflection', 'importance of reflection in AI systems'], 'references': ['1. https://bdtechtalks.com/2022/01/17/ai-algorithm-audit-bias/', '2. https://towardsdatascience.com/the-importance-of-ai-ethics-5b0eb27706c2', '3. https://ai.googleblog.com/2017/04/ai-machine-learning-crash-course.html']}, 'id': 'call_dqREZi4xX0af1TOOsXb82NUz'}], usage_metadata={'input_tokens': 1234, 'output_tokens': 309, 'total_tokens': 1543})"
            ]
          },
          "execution_count": 9,
          "metadata": {},
          "output_type": "execute_result"
        }
      ],
      "source": [
        "import json\n",
        "\n",
        "revised = revisor.respond(\n",
        "    [\n",
        "        HumanMessage(content=example_question),\n",
        "        initial,\n",
        "        ToolMessage(\n",
        "            tool_call_id=initial.tool_calls[0][\"id\"],\n",
        "            content=json.dumps(\n",
        "                website_schema_validator_tool.invoke(\n",
        "                    {\"query\": initial.tool_calls[0][\"args\"][\"reflection\"][\"search_queries\"][0]}\n",
        "                )\n",
        "            ),\n",
        "        ),\n",
        "    ]\n",
        ")\n",
        "revised"
      ]
    },
    {
      "cell_type": "code",
      "execution_count": 10,
      "id": "fccd6a17",
      "metadata": {},
      "outputs": [],
      "source": [
        "from langchain_core.tools import StructuredTool\n",
        "\n",
        "from langgraph.prebuilt import ToolNode\n",
        "\n",
        "\n",
        "def run_queries(search_queries: list[str], **kwargs):\n",
        "    \"\"\"Run the generated queries.\"\"\"\n",
        "    return website_schema_validator_tool.batch([{\"query\": query} for query in search_queries])\n",
        "\n",
        "\n",
        "tool_node = ToolNode(\n",
        "    [\n",
        "        StructuredTool.from_function(run_queries, name=AnswerQuestion.__name__),\n",
        "        StructuredTool.from_function(run_queries, name=ReviseAnswer.__name__),\n",
        "    ]\n",
        ")"
      ]
    },
    {
      "cell_type": "code",
      "execution_count": 11,
      "id": "3c57318f-a30c-4dbd-9b88-f2633e8cb3b1",
      "metadata": {},
      "outputs": [],
      "source": [
        "from typing import Literal\n",
        "\n",
        "from langgraph.graph import END, StateGraph, START\n",
        "from langgraph.graph.message import add_messages\n",
        "from typing import Annotated\n",
        "from typing_extensions import TypedDict\n",
        "\n",
        "\n",
        "class State(TypedDict):\n",
        "    messages: Annotated[list, add_messages]\n",
        "\n",
        "MAX_ITERATIONS = 5\n",
        "builder = StateGraph(State)\n",
        "builder.add_node(\"draft\", first_responder.respond)\n",
        "\n",
        "\n",
        "builder.add_node(\"execute_tools\", tool_node)\n",
        "builder.add_node(\"revise\", revisor.respond)\n",
        "# draft -> execute_tools\n",
        "builder.add_edge(\"draft\", \"execute_tools\")\n",
        "# execute_tools -> revise\n",
        "builder.add_edge(\"execute_tools\", \"revise\")\n",
        "\n",
        "# Define looping logic:\n",
        "\n",
        "\n",
        "def _get_num_iterations(state: list):\n",
        "    i = 0\n",
        "    for m in state[::-1]:\n",
        "        if m.type not in {\"tool\", \"ai\"}:\n",
        "            break\n",
        "        i += 1\n",
        "    return i\n",
        "\n",
        "\n",
        "def event_loop(state: list) -> Literal[\"execute_tools\", \"__end__\"]:\n",
        "    # in our case, we'll just stop after N plans\n",
        "    num_iterations = _get_num_iterations(state)\n",
        "    if num_iterations > MAX_ITERATIONS:\n",
        "        return END\n",
        "    return \"execute_tools\"\n",
        "\n",
        "\n",
        "# revise -> execute_tools OR end\n",
        "builder.add_conditional_edges(\"revise\", event_loop)\n",
        "builder.add_edge(START, \"draft\")\n",
        "graph = builder.compile()"
      ]
    },
    {
      "cell_type": "code",
      "execution_count": 18,
      "id": "7541f82c",
      "metadata": {},
      "outputs": [
        {
          "data": {
            "image/jpeg": "[encoded data removed]",
            "text/plain": [
              "<IPython.core.display.Image object>"
            ]
          },
          "metadata": {},
          "output_type": "display_data"
        }
      ],
      "source": [
        "from IPython.display import Image, display\n",
        "\n",
        "try:\n",
        "    display(Image(graph.get_graph().draw_mermaid_png()))\n",
        "except Exception:\n",
        "    # This requires some extra dependencies and is optional\n",
        "    pass"
      ]
    },
    {
      "cell_type": "code",
      "execution_count": 2,
      "id": "2634a3ea-7423-4579-9f4e-390e439c3209",
      "metadata": {},
      "outputs": [
        {
          "ename": "NameError",
          "evalue": "name 'graph' is not defined",
          "output_type": "error",
          "traceback": [
            "\u001b[0;31m---------------------------------------------------------------------------\u001b[0m",
            "\u001b[0;31mNameError\u001b[0m                                 Traceback (most recent call last)",
            "Cell \u001b[0;32mIn[2], line 1\u001b[0m\n\u001b[0;32m----> 1\u001b[0m \u001b[43mgraph\u001b[49m\u001b[38;5;241m.\u001b[39minvoke(\n\u001b[1;32m      2\u001b[0m     {\n\u001b[1;32m      3\u001b[0m         \u001b[38;5;124m\"\u001b[39m\u001b[38;5;124mmessages\u001b[39m\u001b[38;5;124m\"\u001b[39m: \u001b[38;5;124m\"\u001b[39m\u001b[38;5;124mHow should we handle the climate crisis?\u001b[39m\u001b[38;5;124m\"\u001b[39m,\n\u001b[1;32m      4\u001b[0m     }\n\u001b[1;32m      5\u001b[0m )\n",
            "\u001b[0;31mNameError\u001b[0m: name 'graph' is not defined"
          ]
        }
      ],
      "source": [
        "graph.invoke(\n",
        "    {\n",
        "        \"messages\": \"How should we handle the climate crisis?\",\n",
        "    }\n",
        ")"
      ]
    }
  ],
  "metadata": {
    "kernelspec": {
      "display_name": "Python 3 (ipykernel)",
      "language": "python",
      "name": "python3"
    },
    "language_info": {
      "codemirror_mode": {
        "name": "ipython",
        "version": 3
      },
      "file_extension": ".py",
      "mimetype": "text/x-python",
      "name": "python",
      "nbconvert_exporter": "python",
      "pygments_lexer": "ipython3",
      "version": "3.11.9"
    }
  },
  "nbformat": 4,
  "nbformat_minor": 5
}
